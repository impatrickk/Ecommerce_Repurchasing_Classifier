{
 "cells": [
  {
   "cell_type": "markdown",
   "metadata": {},
   "source": [
    "### Mission:"
   ]
  },
  {
   "cell_type": "markdown",
   "metadata": {},
   "source": [
    "Using Instacart data to predict whether a previous consumer will repurchase a given product."
   ]
  },
  {
   "cell_type": "markdown",
   "metadata": {},
   "source": [
    "### EDA and Early Feature Engineering:"
   ]
  },
  {
   "cell_type": "markdown",
   "metadata": {
    "ExecuteTime": {
     "end_time": "2019-02-09T02:12:46.077413Z",
     "start_time": "2019-02-09T02:12:46.072170Z"
    }
   },
   "source": [
    "Using a subset of the data (10% of users), I first looked at the distribution of my target. I noticed there was about a 90/10 class imbalance. I noted that I will need to use oversampling/undersampling or a class weight in my model."
   ]
  },
  {
   "cell_type": "code",
   "execution_count": 7,
   "metadata": {
    "ExecuteTime": {
     "end_time": "2019-02-09T02:13:36.244740Z",
     "start_time": "2019-02-09T02:13:36.237519Z"
    }
   },
   "outputs": [
    {
     "data": {
      "text/html": [
       "<img src=\"pics/Classification_Imbalance.png\"/>"
      ],
      "text/plain": [
       "<IPython.core.display.Image object>"
      ]
     },
     "execution_count": 7,
     "metadata": {},
     "output_type": "execute_result"
    }
   ],
   "source": [
    "from IPython.display import Image\n",
    "img = 'pics/Classification_Imbalance.png'\n",
    "Image(url=img)"
   ]
  },
  {
   "cell_type": "markdown",
   "metadata": {},
   "source": [
    "I took a look at some features and was able to get some separation. Using probability that a product will be reordered gave me a slight boost. I also looked at products that contained organic vs non-organic in the name. Then I calculated what percent of user's buying history had organic products to calculate the user's organic %."
   ]
  },
  {
   "cell_type": "code",
   "execution_count": 10,
   "metadata": {
    "ExecuteTime": {
     "end_time": "2019-02-09T02:29:41.108943Z",
     "start_time": "2019-02-09T02:29:41.097932Z"
    }
   },
   "outputs": [
    {
     "data": {
      "text/html": [
       "<img src=\"pics/Pairplot.png\"/>"
      ],
      "text/plain": [
       "<IPython.core.display.Image object>"
      ]
     },
     "execution_count": 10,
     "metadata": {},
     "output_type": "execute_result"
    }
   ],
   "source": [
    "img = 'pics/Pairplot.png'\n",
    "Image(url=img)"
   ]
  },
  {
   "cell_type": "markdown",
   "metadata": {},
   "source": [
    "### Further exploration:"
   ]
  },
  {
   "cell_type": "markdown",
   "metadata": {},
   "source": [
    "##### -look at day of the week and time of order features\n",
    "##### -address class-imbalance issue\n",
    "##### -look at the interactions between a user's organic % with a product that's categorized as organic/non-organic. Hoping to use Random Forest to capture this interaction, as it looks like my data might not be linearly seperable."
   ]
  },
  {
   "cell_type": "code",
   "execution_count": null,
   "metadata": {},
   "outputs": [],
   "source": []
  }
 ],
 "metadata": {
  "kernelspec": {
   "display_name": "Python 3",
   "language": "python",
   "name": "python3"
  },
  "language_info": {
   "codemirror_mode": {
    "name": "ipython",
    "version": 3
   },
   "file_extension": ".py",
   "mimetype": "text/x-python",
   "name": "python",
   "nbconvert_exporter": "python",
   "pygments_lexer": "ipython3",
   "version": "3.7.2"
  }
 },
 "nbformat": 4,
 "nbformat_minor": 2
}
